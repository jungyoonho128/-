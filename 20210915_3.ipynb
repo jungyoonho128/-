{
  "nbformat": 4,
  "nbformat_minor": 0,
  "metadata": {
    "colab": {
      "name": "20210915-3.ipynb",
      "provenance": [],
      "authorship_tag": "ABX9TyP++KOSo/iBN/hfMRobKmZk",
      "include_colab_link": true
    },
    "kernelspec": {
      "name": "python3",
      "display_name": "Python 3"
    },
    "language_info": {
      "name": "python"
    }
  },
  "cells": [
    {
      "cell_type": "markdown",
      "metadata": {
        "id": "view-in-github",
        "colab_type": "text"
      },
      "source": [
        "<a href=\"https://colab.research.google.com/github/jungyoonho128/program/blob/main/20210915_3.ipynb\" target=\"_parent\"><img src=\"https://colab.research.google.com/assets/colab-badge.svg\" alt=\"Open In Colab\"/></a>"
      ]
    },
    {
      "cell_type": "code",
      "metadata": {
        "id": "I21lUqNjL8jz"
      },
      "source": [
        "def addcalc(x,y):\n",
        "  return x+y\n",
        "\n",
        "\n",
        "def minuscalc(x,y):\n",
        "  return x-y\n",
        "\n",
        "def mulcalc(x,y):\n",
        "  return x*y"
      ],
      "execution_count": null,
      "outputs": []
    },
    {
      "cell_type": "code",
      "metadata": {
        "colab": {
          "base_uri": "https://localhost:8080/"
        },
        "id": "2oDdyooOMKvo",
        "outputId": "400450cc-8b24-44d5-8fdc-eb28e7587a7b"
      },
      "source": [
        "#result = addcalc(2,4)\n",
        "#print(result)\n",
        "\n",
        "a,b = input(\"더하기 계산기:\").split('+')\n",
        "result = addcalc(int(a),int(b))\n",
        "print(result)"
      ],
      "execution_count": null,
      "outputs": [
        {
          "output_type": "stream",
          "name": "stdout",
          "text": [
            "더하기 계산기:5+3\n",
            "8\n"
          ]
        }
      ]
    },
    {
      "cell_type": "code",
      "metadata": {
        "colab": {
          "base_uri": "https://localhost:8080/"
        },
        "id": "BIxFPjrnMXQe",
        "outputId": "e6f4e7e9-50e8-4579-8eeb-6df2568478c1"
      },
      "source": [
        "a,b = input('빼기계산기:').split('-')\n",
        "result =minuscalc(int(a), int(b))\n",
        "print(result)"
      ],
      "execution_count": null,
      "outputs": [
        {
          "output_type": "stream",
          "name": "stdout",
          "text": [
            "빼기계산기:4-4\n",
            "0\n"
          ]
        }
      ]
    },
    {
      "cell_type": "code",
      "metadata": {
        "colab": {
          "base_uri": "https://localhost:8080/"
        },
        "id": "lAeR-Xz3ODqn",
        "outputId": "8c53cf44-fcc1-4909-a079-d12ee58a5004"
      },
      "source": [
        "a,b = input('곱하기계산기:').split('*')\n",
        "result = mulcalc(int(a), int(b))\n",
        "print(result)"
      ],
      "execution_count": null,
      "outputs": [
        {
          "output_type": "stream",
          "name": "stdout",
          "text": [
            "곱하기계산기:4*5\n",
            "20\n"
          ]
        }
      ]
    },
    {
      "cell_type": "code",
      "metadata": {
        "id": "YnJ-ZL6dPLx3"
      },
      "source": [
        ""
      ],
      "execution_count": null,
      "outputs": []
    }
  ]
}