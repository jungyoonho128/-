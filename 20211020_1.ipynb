{
  "nbformat": 4,
  "nbformat_minor": 0,
  "metadata": {
    "colab": {
      "name": "20211020-1.ipynb",
      "provenance": [],
      "authorship_tag": "ABX9TyMIgghNuJMAb7c3yZoe4sHp",
      "include_colab_link": true
    },
    "kernelspec": {
      "name": "python3",
      "display_name": "Python 3"
    },
    "language_info": {
      "name": "python"
    }
  },
  "cells": [
    {
      "cell_type": "markdown",
      "metadata": {
        "id": "view-in-github",
        "colab_type": "text"
      },
      "source": [
        "<a href=\"https://colab.research.google.com/github/jungyoonho128/program/blob/main/20211020_1.ipynb\" target=\"_parent\"><img src=\"https://colab.research.google.com/assets/colab-badge.svg\" alt=\"Open In Colab\"/></a>"
      ]
    },
    {
      "cell_type": "code",
      "metadata": {
        "id": "JY4IQk8W7ZV3"
      },
      "source": [
        "def solution(result):\n",
        "  score=0\n",
        "  for a in result:\n",
        "    if a == 'W':\n",
        "      score = score + 3\n",
        "    elif a == 'D':\n",
        "      score = score + 1\n",
        "    elif a == \"L\":\n",
        "      score = score + 0\n",
        "  return score"
      ],
      "execution_count": null,
      "outputs": []
    },
    {
      "cell_type": "code",
      "metadata": {
        "colab": {
          "base_uri": "https://localhost:8080/"
        },
        "id": "Wz8i52rjB6Rd",
        "outputId": "5d06d252-f0e3-4efb-d7ed-fca8a7ca72a0"
      },
      "source": [
        "print(solution('WDLWDLWW'))"
      ],
      "execution_count": null,
      "outputs": [
        {
          "output_type": "stream",
          "name": "stdout",
          "text": [
            "14\n"
          ]
        }
      ]
    },
    {
      "cell_type": "code",
      "metadata": {
        "id": "pKW06REeB_P0"
      },
      "source": [
        ""
      ],
      "execution_count": null,
      "outputs": []
    }
  ]
}