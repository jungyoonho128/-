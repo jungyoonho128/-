{
  "nbformat": 4,
  "nbformat_minor": 0,
  "metadata": {
    "colab": {
      "name": "20210825-1.ipynb",
      "provenance": [],
      "authorship_tag": "ABX9TyP4dMa3AMaA1VXVyeZiCZRJ",
      "include_colab_link": true
    },
    "kernelspec": {
      "name": "python3",
      "display_name": "Python 3"
    },
    "language_info": {
      "name": "python"
    }
  },
  "cells": [
    {
      "cell_type": "markdown",
      "metadata": {
        "id": "view-in-github",
        "colab_type": "text"
      },
      "source": [
        "<a href=\"https://colab.research.google.com/github/jungyoonho128/program/blob/main/20210825_1.ipynb\" target=\"_parent\"><img src=\"https://colab.research.google.com/assets/colab-badge.svg\" alt=\"Open In Colab\"/></a>"
      ]
    },
    {
      "cell_type": "code",
      "metadata": {
        "colab": {
          "base_uri": "https://localhost:8080/"
        },
        "id": "THj40mJ-lXau",
        "outputId": "2d46aef7-c9eb-44eb-baa8-ff6ee88475dd"
      },
      "source": [
        "print('Hi')"
      ],
      "execution_count": null,
      "outputs": [
        {
          "output_type": "stream",
          "text": [
            "Hi\n"
          ],
          "name": "stdout"
        }
      ]
    },
    {
      "cell_type": "code",
      "metadata": {
        "colab": {
          "base_uri": "https://localhost:8080/"
        },
        "id": "lU2DHk-Lmbek",
        "outputId": "bfb561fb-d3e3-4cd1-d544-5ac2495ed18c"
      },
      "source": [
        "print('1')\n",
        "print('2')\n",
        "print('3')\n",
        "print('4')\n",
        "print('5')"
      ],
      "execution_count": null,
      "outputs": [
        {
          "output_type": "stream",
          "text": [
            "1\n",
            "2\n",
            "3\n",
            "4\n",
            "5\n"
          ],
          "name": "stdout"
        }
      ]
    },
    {
      "cell_type": "code",
      "metadata": {
        "colab": {
          "base_uri": "https://localhost:8080/"
        },
        "id": "djdFdb9sntfq",
        "outputId": "ae183696-9f8c-4cba-f3ad-1fa7d4aed4f7"
      },
      "source": [
        "print('no sana no life')\n",
        "print('no sana no life')\n",
        "print('no sana no life')"
      ],
      "execution_count": null,
      "outputs": [
        {
          "output_type": "stream",
          "text": [
            "no sana no life\n",
            "no sana no life\n",
            "no sana no life\n"
          ],
          "name": "stdout"
        }
      ]
    },
    {
      "cell_type": "code",
      "metadata": {
        "colab": {
          "base_uri": "https://localhost:8080/"
        },
        "id": "lgRGDwrYoC05",
        "outputId": "5fe425a2-7e7a-4c49-8267-3e05058f2bb7"
      },
      "source": [
        "for i in range(10):\n",
        "  print('no sana no life')"
      ],
      "execution_count": null,
      "outputs": [
        {
          "output_type": "stream",
          "text": [
            "no sana no life\n",
            "no sana no life\n",
            "no sana no life\n",
            "no sana no life\n",
            "no sana no life\n",
            "no sana no life\n",
            "no sana no life\n",
            "no sana no life\n",
            "no sana no life\n",
            "no sana no life\n"
          ],
          "name": "stdout"
        }
      ]
    },
    {
      "cell_type": "code",
      "metadata": {
        "colab": {
          "base_uri": "https://localhost:8080/"
        },
        "id": "Oy201gdQouha",
        "outputId": "fe0bf209-9d06-4f47-da1d-e89f8a6fe1db"
      },
      "source": [
        "for _ in range(5):\n",
        "  print('nayeon is sexy')"
      ],
      "execution_count": null,
      "outputs": [
        {
          "output_type": "stream",
          "text": [
            "nayeon is sexy\n",
            "nayeon is sexy\n",
            "nayeon is sexy\n",
            "nayeon is sexy\n",
            "nayeon is sexy\n"
          ],
          "name": "stdout"
        }
      ]
    },
    {
      "cell_type": "code",
      "metadata": {
        "colab": {
          "base_uri": "https://localhost:8080/"
        },
        "id": "eL8X3HbCpAV4",
        "outputId": "cbf7b908-fa53-48da-e18c-0ebc083089e9"
      },
      "source": [
        "for _ in range(10):\n",
        "  print('혁아 어쩔티비')"
      ],
      "execution_count": null,
      "outputs": [
        {
          "output_type": "stream",
          "text": [
            "혁아 어쩔티비\n",
            "혁아 어쩔티비\n",
            "혁아 어쩔티비\n",
            "혁아 어쩔티비\n",
            "혁아 어쩔티비\n",
            "혁아 어쩔티비\n",
            "혁아 어쩔티비\n",
            "혁아 어쩔티비\n",
            "혁아 어쩔티비\n",
            "혁아 어쩔티비\n"
          ],
          "name": "stdout"
        }
      ]
    },
    {
      "cell_type": "code",
      "metadata": {
        "colab": {
          "base_uri": "https://localhost:8080/"
        },
        "id": "77h8K7N8w3GF",
        "outputId": "2d194d60-adf5-4f0b-ef88-7f2e0814f0cb"
      },
      "source": [
        "for _ in range(10):\n",
        "  print('AAA')\n",
        "  print('BBB')"
      ],
      "execution_count": null,
      "outputs": [
        {
          "output_type": "stream",
          "text": [
            "AAA\n",
            "BBB\n",
            "AAA\n",
            "BBB\n",
            "AAA\n",
            "BBB\n",
            "AAA\n",
            "BBB\n",
            "AAA\n",
            "BBB\n",
            "AAA\n",
            "BBB\n",
            "AAA\n",
            "BBB\n",
            "AAA\n",
            "BBB\n",
            "AAA\n",
            "BBB\n",
            "AAA\n",
            "BBB\n"
          ],
          "name": "stdout"
        }
      ]
    },
    {
      "cell_type": "code",
      "metadata": {
        "colab": {
          "base_uri": "https://localhost:8080/"
        },
        "id": "JcAxyPP8xpmU",
        "outputId": "55afea24-925c-42e6-e5af-3b0fa1caac2d"
      },
      "source": [
        "for i in range(0,10):\n",
        "  print(i)"
      ],
      "execution_count": null,
      "outputs": [
        {
          "output_type": "stream",
          "text": [
            "0\n",
            "1\n",
            "2\n",
            "3\n",
            "4\n",
            "5\n",
            "6\n",
            "7\n",
            "8\n",
            "9\n"
          ],
          "name": "stdout"
        }
      ]
    },
    {
      "cell_type": "code",
      "metadata": {
        "colab": {
          "base_uri": "https://localhost:8080/"
        },
        "id": "S_-oiULY0d9D",
        "outputId": "54c8c5f5-3bdd-409f-f35f-1cd2424bab0d"
      },
      "source": [
        "for i in range(0,20,2):\n",
        "  print(i)"
      ],
      "execution_count": null,
      "outputs": [
        {
          "output_type": "stream",
          "text": [
            "0\n",
            "2\n",
            "4\n",
            "6\n",
            "8\n",
            "10\n",
            "12\n",
            "14\n",
            "16\n",
            "18\n"
          ],
          "name": "stdout"
        }
      ]
    },
    {
      "cell_type": "code",
      "metadata": {
        "colab": {
          "base_uri": "https://localhost:8080/"
        },
        "id": "N0jD2bnr1JxC",
        "outputId": "21f5eb74-5253-4307-b7ee-8760c989c62b"
      },
      "source": [
        "for i in range(48,104,3):\n",
        "  print(i)"
      ],
      "execution_count": null,
      "outputs": [
        {
          "output_type": "stream",
          "text": [
            "48\n",
            "51\n",
            "54\n",
            "57\n",
            "60\n",
            "63\n",
            "66\n",
            "69\n",
            "72\n",
            "75\n",
            "78\n",
            "81\n",
            "84\n",
            "87\n",
            "90\n",
            "93\n",
            "96\n",
            "99\n",
            "102\n"
          ],
          "name": "stdout"
        }
      ]
    },
    {
      "cell_type": "code",
      "metadata": {
        "colab": {
          "base_uri": "https://localhost:8080/"
        },
        "id": "vZzQTXuM1ftZ",
        "outputId": "968f7e3c-8568-4bb8-c9a9-2dd28c4987b2"
      },
      "source": [
        "for i in range(50,100):\n",
        "  print(i)"
      ],
      "execution_count": null,
      "outputs": [
        {
          "output_type": "stream",
          "text": [
            "50\n",
            "51\n",
            "52\n",
            "53\n",
            "54\n",
            "55\n",
            "56\n",
            "57\n",
            "58\n",
            "59\n",
            "60\n",
            "61\n",
            "62\n",
            "63\n",
            "64\n",
            "65\n",
            "66\n",
            "67\n",
            "68\n",
            "69\n",
            "70\n",
            "71\n",
            "72\n",
            "73\n",
            "74\n",
            "75\n",
            "76\n",
            "77\n",
            "78\n",
            "79\n",
            "80\n",
            "81\n",
            "82\n",
            "83\n",
            "84\n",
            "85\n",
            "86\n",
            "87\n",
            "88\n",
            "89\n",
            "90\n",
            "91\n",
            "92\n",
            "93\n",
            "94\n",
            "95\n",
            "96\n",
            "97\n",
            "98\n",
            "99\n"
          ],
          "name": "stdout"
        }
      ]
    },
    {
      "cell_type": "code",
      "metadata": {
        "colab": {
          "base_uri": "https://localhost:8080/"
        },
        "id": "zlya2ot110eJ",
        "outputId": "69712f93-7f1a-44ea-ca4a-9a0de2abd389"
      },
      "source": [
        "for _ in range(10):\n",
        "  print('NSNL', end='@')"
      ],
      "execution_count": null,
      "outputs": [
        {
          "output_type": "stream",
          "text": [
            "NSNL@NSNL@NSNL@NSNL@NSNL@NSNL@NSNL@NSNL@NSNL@NSNL@"
          ],
          "name": "stdout"
        }
      ]
    },
    {
      "cell_type": "code",
      "metadata": {
        "colab": {
          "base_uri": "https://localhost:8080/"
        },
        "id": "_e1RwukB2NRx",
        "outputId": "7d061d11-8410-42f9-fd83-6796c888804f"
      },
      "source": [
        "for _ in range(10):\n",
        "  print(\"정혁\", end=\"ㅋ\")"
      ],
      "execution_count": null,
      "outputs": [
        {
          "output_type": "stream",
          "text": [
            "정혁ㅋ정혁ㅋ정혁ㅋ정혁ㅋ정혁ㅋ정혁ㅋ정혁ㅋ정혁ㅋ정혁ㅋ정혁ㅋ"
          ],
          "name": "stdout"
        }
      ]
    },
    {
      "cell_type": "code",
      "metadata": {
        "colab": {
          "base_uri": "https://localhost:8080/"
        },
        "id": "4L-Kd9gA2biI",
        "outputId": "b8cec3ee-92c7-4cc1-df80-1893e25759b7"
      },
      "source": [
        "for _ in range(10):\n",
        "  print('이이잉', end='기머륑')"
      ],
      "execution_count": null,
      "outputs": [
        {
          "output_type": "stream",
          "text": [
            "이이잉기머륑이이잉기머륑이이잉기머륑이이잉기머륑이이잉기머륑이이잉기머륑이이잉기머륑이이잉기머륑이이잉기머륑이이잉기머륑"
          ],
          "name": "stdout"
        }
      ]
    },
    {
      "cell_type": "code",
      "metadata": {
        "colab": {
          "base_uri": "https://localhost:8080/"
        },
        "id": "EpQY9VUf83q1",
        "outputId": "4578c0f5-e42e-48c5-ff2f-d6e3e6a94b6b"
      },
      "source": [
        "a=1\n",
        "\n",
        "if a>10:\n",
        "  print('wow')\n",
        "elif a<10:\n",
        "  print('lol')"
      ],
      "execution_count": null,
      "outputs": [
        {
          "output_type": "stream",
          "text": [
            "lol\n"
          ],
          "name": "stdout"
        }
      ]
    },
    {
      "cell_type": "code",
      "metadata": {
        "colab": {
          "base_uri": "https://localhost:8080/"
        },
        "id": "jWK2dMXe_-AD",
        "outputId": "878aa02e-8903-4e85-eac2-f1581f8e561f"
      },
      "source": [
        "a=120\n",
        "b=32\n",
        "\n",
        "print(a%b)"
      ],
      "execution_count": null,
      "outputs": [
        {
          "output_type": "stream",
          "text": [
            "24\n"
          ],
          "name": "stdout"
        }
      ]
    },
    {
      "cell_type": "code",
      "metadata": {
        "colab": {
          "base_uri": "https://localhost:8080/"
        },
        "id": "oHQVOyiGAXWs",
        "outputId": "e763b262-6dc4-42dc-f592-6d8e7129de98"
      },
      "source": [
        "a = 32\n",
        "if a%2==0:\n",
        "  print('짝수')\n",
        "elif a%2==1:\n",
        "  print('홀수')"
      ],
      "execution_count": null,
      "outputs": [
        {
          "output_type": "stream",
          "text": [
            "짝수\n"
          ],
          "name": "stdout"
        }
      ]
    },
    {
      "cell_type": "code",
      "metadata": {
        "colab": {
          "base_uri": "https://localhost:8080/"
        },
        "id": "mQKnbaWFBMHL",
        "outputId": "18605b45-57bc-4eb1-d5fd-09415e84a9a0"
      },
      "source": [
        "for i in range(100,1000,):\n",
        "  if i%10==0:\n",
        "    print(i, end=' ')"
      ],
      "execution_count": null,
      "outputs": [
        {
          "output_type": "stream",
          "text": [
            "100 110 120 130 140 150 160 170 180 190 200 210 220 230 240 250 260 270 280 290 300 310 320 330 340 350 360 370 380 390 400 410 420 430 440 450 460 470 480 490 500 510 520 530 540 550 560 570 580 590 600 610 620 630 640 650 660 670 680 690 700 710 720 730 740 750 760 770 780 790 800 810 820 830 840 850 860 870 880 890 900 910 920 930 940 950 960 970 980 990 "
          ],
          "name": "stdout"
        }
      ]
    }
  ]
}