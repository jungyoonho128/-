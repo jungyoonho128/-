{
  "nbformat": 4,
  "nbformat_minor": 0,
  "metadata": {
    "colab": {
      "name": "20211025-1.ipynb",
      "provenance": [],
      "authorship_tag": "ABX9TyOiaLngQvmXKQ+MK+kPf7qQ",
      "include_colab_link": true
    },
    "kernelspec": {
      "name": "python3",
      "display_name": "Python 3"
    },
    "language_info": {
      "name": "python"
    }
  },
  "cells": [
    {
      "cell_type": "markdown",
      "metadata": {
        "id": "view-in-github",
        "colab_type": "text"
      },
      "source": [
        "<a href=\"https://colab.research.google.com/github/jungyoonho128/program/blob/main/20211025_1.ipynb\" target=\"_parent\"><img src=\"https://colab.research.google.com/assets/colab-badge.svg\" alt=\"Open In Colab\"/></a>"
      ]
    },
    {
      "cell_type": "code",
      "metadata": {
        "id": "crPPMmjdtzND"
      },
      "source": [
        "def solution(n):\n",
        "  sum = 0\n",
        "  while n>=1:\n",
        "    sum = sum + (n%10)\n",
        "    n = n//10\n",
        "  \n",
        "  return  sum"
      ],
      "execution_count": null,
      "outputs": []
    },
    {
      "cell_type": "code",
      "metadata": {
        "colab": {
          "base_uri": "https://localhost:8080/"
        },
        "id": "FKz2EaK7vHiB",
        "outputId": "55bf4ee9-9374-452e-fa93-29e6b21c0100"
      },
      "source": [
        "print(solution(2321522361234))"
      ],
      "execution_count": null,
      "outputs": [
        {
          "output_type": "stream",
          "name": "stdout",
          "text": [
            "36\n"
          ]
        }
      ]
    },
    {
      "cell_type": "code",
      "metadata": {
        "id": "t7S1z3RWxYlW"
      },
      "source": [
        ""
      ],
      "execution_count": null,
      "outputs": []
    }
  ]
}