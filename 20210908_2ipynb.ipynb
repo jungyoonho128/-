{
  "nbformat": 4,
  "nbformat_minor": 0,
  "metadata": {
    "colab": {
      "name": "20210908-2ipynb",
      "provenance": [],
      "authorship_tag": "ABX9TyPe1Uyq31tsr3eC9qQGLHG+",
      "include_colab_link": true
    },
    "kernelspec": {
      "name": "python3",
      "display_name": "Python 3"
    },
    "language_info": {
      "name": "python"
    }
  },
  "cells": [
    {
      "cell_type": "markdown",
      "metadata": {
        "id": "view-in-github",
        "colab_type": "text"
      },
      "source": [
        "<a href=\"https://colab.research.google.com/github/jungyoonho128/program/blob/main/20210908_2ipynb.ipynb\" target=\"_parent\"><img src=\"https://colab.research.google.com/assets/colab-badge.svg\" alt=\"Open In Colab\"/></a>"
      ]
    },
    {
      "cell_type": "code",
      "metadata": {
        "colab": {
          "base_uri": "https://localhost:8080/"
        },
        "id": "lJTdXRh401OL",
        "outputId": "f821fd14-443d-493c-f920-66a34da0a642"
      },
      "source": [
        "a = [2,4,6,8,11]\n",
        "\n",
        "print(a)\n",
        "print(a[2])"
      ],
      "execution_count": null,
      "outputs": [
        {
          "output_type": "stream",
          "name": "stdout",
          "text": [
            "[2, 4, 6, 8, 11]\n",
            "6\n"
          ]
        }
      ]
    },
    {
      "cell_type": "code",
      "metadata": {
        "colab": {
          "base_uri": "https://localhost:8080/"
        },
        "id": "KStSlSSN1Ki9",
        "outputId": "8de4e62c-4c50-4c83-9b34-e16db328ab63"
      },
      "source": [
        "print(a[2:4])\n",
        "print(a[2:])\n",
        "print(a[:4])"
      ],
      "execution_count": null,
      "outputs": [
        {
          "output_type": "stream",
          "name": "stdout",
          "text": [
            "[6, 8]\n",
            "[6, 8, 11]\n",
            "[2, 4, 6, 8]\n"
          ]
        }
      ]
    },
    {
      "cell_type": "code",
      "metadata": {
        "id": "7e1DhdCd18Jc"
      },
      "source": [
        "a = input(\"임력하세영:\")\n",
        "print(a)"
      ],
      "execution_count": null,
      "outputs": []
    },
    {
      "cell_type": "code",
      "metadata": {
        "colab": {
          "base_uri": "https://localhost:8080/"
        },
        "id": "WskE-dyn2bK9",
        "outputId": "a8cdee02-ce51-4eaa-dfb8-630d4cecc9e5"
      },
      "source": [
        "b = input(\"숫자를 입력하세연:\")\n",
        "#print(type(b))\n",
        "print(int(b)+1)"
      ],
      "execution_count": null,
      "outputs": [
        {
          "output_type": "stream",
          "name": "stdout",
          "text": [
            "숫자를 입력하세연:10\n",
            "11\n"
          ]
        }
      ]
    },
    {
      "cell_type": "code",
      "metadata": {
        "colab": {
          "base_uri": "https://localhost:8080/"
        },
        "id": "o6o7rwC634Dw",
        "outputId": "06fcf779-6643-486d-b72e-584e6550ad78"
      },
      "source": [
        "c = input(\"오빠 숫자입력해영:\")\n",
        "\n",
        "if int(c)%2==0:\n",
        "  print(\"오빵, 짝수에용\")\n",
        "else:\n",
        "  print(\"오빵, 홀수에용\")"
      ],
      "execution_count": null,
      "outputs": [
        {
          "output_type": "stream",
          "name": "stdout",
          "text": [
            "오빠 숫자임력해영:11\n",
            "오빵, 홀수에용\n"
          ]
        }
      ]
    },
    {
      "cell_type": "code",
      "metadata": {
        "colab": {
          "base_uri": "https://localhost:8080/"
        },
        "id": "tBi7APhM41Pd",
        "outputId": "5f3f2de3-cba5-4941-a037-ea828e27a813"
      },
      "source": [
        "d = input(\"오빠 숫자입력해영:\")\n",
        "\n",
        "if int(d)>0:\n",
        "  print(\"오빵 양수에용\")\n",
        "elif int(d)<0:\n",
        "  print(\"오빵 음수에용\")\n",
        "else:\n",
        "  print(\"오빵 0이에영\")"
      ],
      "execution_count": null,
      "outputs": [
        {
          "output_type": "stream",
          "name": "stdout",
          "text": [
            "오빠 숫자입력해영:1\n",
            "오빵 양수에용\n"
          ]
        }
      ]
    },
    {
      "cell_type": "code",
      "metadata": {
        "colab": {
          "base_uri": "https://localhost:8080/"
        },
        "id": "sHUQFSZH5_Ln",
        "outputId": "58a5a1d4-80b3-4574-9a5b-c7585722f453"
      },
      "source": [
        "x,y = 1,2\n",
        "print(x)\n",
        "print(y)"
      ],
      "execution_count": null,
      "outputs": [
        {
          "output_type": "stream",
          "name": "stdout",
          "text": [
            "1\n",
            "2\n"
          ]
        }
      ]
    },
    {
      "cell_type": "code",
      "metadata": {
        "colab": {
          "base_uri": "https://localhost:8080/"
        },
        "id": "JHsMlGJF8oxv",
        "outputId": "e06d0af7-d923-47af-e7d0-e7fc51d70837"
      },
      "source": [
        "x,y = input(\"입력하세영: \").split()\n",
        "#print(x)\n",
        "#print(y)\n",
        "print(int(x)+int(y))\n"
      ],
      "execution_count": null,
      "outputs": [
        {
          "output_type": "stream",
          "name": "stdout",
          "text": [
            "입력하세영: 123123 123123\n",
            "246246\n"
          ]
        }
      ]
    },
    {
      "cell_type": "code",
      "metadata": {
        "id": "pi1HCQfY8sSQ"
      },
      "source": [
        ""
      ],
      "execution_count": null,
      "outputs": []
    }
  ]
}