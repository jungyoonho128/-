{
  "nbformat": 4,
  "nbformat_minor": 0,
  "metadata": {
    "colab": {
      "name": "20210929-3.ipynb",
      "provenance": [],
      "collapsed_sections": [],
      "authorship_tag": "ABX9TyN2hrRJxav4Cujp5Dh+Qoqz",
      "include_colab_link": true
    },
    "kernelspec": {
      "name": "python3",
      "display_name": "Python 3"
    },
    "language_info": {
      "name": "python"
    }
  },
  "cells": [
    {
      "cell_type": "markdown",
      "metadata": {
        "id": "view-in-github",
        "colab_type": "text"
      },
      "source": [
        "<a href=\"https://colab.research.google.com/github/jungyoonho128/program/blob/main/20210929_3.ipynb\" target=\"_parent\"><img src=\"https://colab.research.google.com/assets/colab-badge.svg\" alt=\"Open In Colab\"/></a>"
      ]
    },
    {
      "cell_type": "code",
      "metadata": {
        "colab": {
          "base_uri": "https://localhost:8080/"
        },
        "id": "UsL-ZA9mP_JA",
        "outputId": "e5ebd868-e42a-4b33-8108-bb1dd06da34a"
      },
      "source": [
        "a = {1,2,3}\n",
        "print(a)\n",
        "a.add(7)\n",
        "print(a)\n",
        "print(len(a))"
      ],
      "execution_count": null,
      "outputs": [
        {
          "output_type": "stream",
          "name": "stdout",
          "text": [
            "{1, 2, 3}\n",
            "{1, 2, 3, 7}\n",
            "4\n"
          ]
        }
      ]
    },
    {
      "cell_type": "code",
      "metadata": {
        "colab": {
          "base_uri": "https://localhost:8080/"
        },
        "id": "gBNb0c8yQbza",
        "outputId": "d018787d-dfbe-40e9-d42b-998f6a1b25c9"
      },
      "source": [
        "import random\n",
        "\n",
        "lotto = set()\n",
        "#print(type(lotto))\n",
        "count = 0\n",
        "while len(lotto)<6:\n",
        "  lotto.add(random. randrange(1,46))\n",
        "  count = count + 1\n",
        "\n",
        "print(lotto)\n",
        "print(count)"
      ],
      "execution_count": null,
      "outputs": [
        {
          "output_type": "stream",
          "name": "stdout",
          "text": [
            "{35, 36, 38, 7, 23, 25}\n",
            "6\n"
          ]
        }
      ]
    },
    {
      "cell_type": "code",
      "metadata": {
        "id": "6J_7If_nRMFW"
      },
      "source": [
        ""
      ],
      "execution_count": null,
      "outputs": []
    }
  ]
}