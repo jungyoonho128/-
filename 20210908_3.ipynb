{
  "nbformat": 4,
  "nbformat_minor": 0,
  "metadata": {
    "colab": {
      "name": "20210908-3.ipynb",
      "provenance": [],
      "authorship_tag": "ABX9TyNqh289/Oe0M2SQoA2iGD8r",
      "include_colab_link": true
    },
    "kernelspec": {
      "name": "python3",
      "display_name": "Python 3"
    },
    "language_info": {
      "name": "python"
    }
  },
  "cells": [
    {
      "cell_type": "markdown",
      "metadata": {
        "id": "view-in-github",
        "colab_type": "text"
      },
      "source": [
        "<a href=\"https://colab.research.google.com/github/jungyoonho128/program/blob/main/20210908_3.ipynb\" target=\"_parent\"><img src=\"https://colab.research.google.com/assets/colab-badge.svg\" alt=\"Open In Colab\"/></a>"
      ]
    },
    {
      "cell_type": "code",
      "metadata": {
        "colab": {
          "base_uri": "https://localhost:8080/"
        },
        "id": "NwN1SNegFRwK",
        "outputId": "5552dd14-8da5-4e45-de7a-819058c6cc9d"
      },
      "source": [
        "print('***')"
      ],
      "execution_count": null,
      "outputs": [
        {
          "output_type": "stream",
          "name": "stdout",
          "text": [
            "***\n"
          ]
        }
      ]
    },
    {
      "cell_type": "code",
      "metadata": {
        "colab": {
          "base_uri": "https://localhost:8080/"
        },
        "id": "OleqjRi2F3yJ",
        "outputId": "fd44294e-4d87-4a64-e422-cf11b40bba01"
      },
      "source": [
        "print('********************')\n",
        "print('*                  *')\n",
        "print('*    안녕하세여    *')\n",
        "print('*                  *')\n",
        "print('********************')"
      ],
      "execution_count": null,
      "outputs": [
        {
          "output_type": "stream",
          "name": "stdout",
          "text": [
            "********************\n",
            "*                  *\n",
            "*    안녕하세여    *\n",
            "*                  *\n",
            "********************\n"
          ]
        }
      ]
    },
    {
      "cell_type": "code",
      "metadata": {
        "colab": {
          "base_uri": "https://localhost:8080/"
        },
        "id": "Kojr1_pVGS0S",
        "outputId": "ad6f5d1a-af49-4d86-a73c-204fd5995526"
      },
      "source": [
        "print('*'*30)"
      ],
      "execution_count": null,
      "outputs": [
        {
          "output_type": "stream",
          "name": "stdout",
          "text": [
            "******************************\n"
          ]
        }
      ]
    },
    {
      "cell_type": "code",
      "metadata": {
        "colab": {
          "base_uri": "https://localhost:8080/"
        },
        "id": "1IPF4tBMGdXn",
        "outputId": "1b817ce0-f269-4720-e66c-897f80865b9f"
      },
      "source": [
        "print('안녕하세요. 저는 {0}입니당'.format('정윤호'))"
      ],
      "execution_count": null,
      "outputs": [
        {
          "output_type": "stream",
          "name": "stdout",
          "text": [
            "안녕하세요. 저는 정윤호입니당\n"
          ]
        }
      ]
    },
    {
      "cell_type": "code",
      "metadata": {
        "colab": {
          "base_uri": "https://localhost:8080/"
        },
        "id": "W_FRb8pfG3Pj",
        "outputId": "5cbe834d-0357-4816-9cf1-4699df7271bc"
      },
      "source": [
        "print('안녕하세요. 저는 {0}이고 나이는 {1}살 입니당.'.format('정윤호',17))"
      ],
      "execution_count": null,
      "outputs": [
        {
          "output_type": "stream",
          "name": "stdout",
          "text": [
            "안녕하세요. 저는 정윤호이고 나이는 17살 입니당.\n"
          ]
        }
      ]
    },
    {
      "cell_type": "code",
      "metadata": {
        "colab": {
          "base_uri": "https://localhost:8080/"
        },
        "id": "Dt8mqOnTHKCh",
        "outputId": "b6f7669f-4abe-4147-c773-221bbcd916c2"
      },
      "source": [
        "name = input('이름:')\n",
        "age = input('나이:')\n",
        "print('{0}({1})'.format(name,age))"
      ],
      "execution_count": null,
      "outputs": [
        {
          "output_type": "stream",
          "name": "stdout",
          "text": [
            "이름:정윤호\n",
            "나이:17\n",
            "정윤호(17)\n"
          ]
        }
      ]
    }
  ]
}