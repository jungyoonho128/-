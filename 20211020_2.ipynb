{
  "nbformat": 4,
  "nbformat_minor": 0,
  "metadata": {
    "colab": {
      "name": "20211020-2.ipynb",
      "provenance": [],
      "authorship_tag": "ABX9TyNc4DokL2hG1cwsJkqch1CY",
      "include_colab_link": true
    },
    "kernelspec": {
      "name": "python3",
      "display_name": "Python 3"
    },
    "language_info": {
      "name": "python"
    }
  },
  "cells": [
    {
      "cell_type": "markdown",
      "metadata": {
        "id": "view-in-github",
        "colab_type": "text"
      },
      "source": [
        "<a href=\"https://colab.research.google.com/github/jungyoonho128/program/blob/main/20211020_2.ipynb\" target=\"_parent\"><img src=\"https://colab.research.google.com/assets/colab-badge.svg\" alt=\"Open In Colab\"/></a>"
      ]
    },
    {
      "cell_type": "code",
      "metadata": {
        "id": "l87qTTPkIfjK"
      },
      "source": [
        "def solution(word):\n",
        "  count=0\n",
        "  for a in word:\n",
        "    if a == 'a':\n",
        "      count = count + 1\n",
        "    elif a == 'A':\n",
        "      count = count + 1\n",
        "    elif a == 'e':\n",
        "      count = count + 1\n",
        "    elif a == 'E':\n",
        "      count = count + 1\n",
        "    elif a == 'i':\n",
        "      count = count + 1\n",
        "    elif a == 'I':\n",
        "      count = count + 1\n",
        "    elif a == 'o':\n",
        "      count = count + 1\n",
        "    elif a == 'O':\n",
        "      count = count + 1\n",
        "    elif a == 'u':\n",
        "      count = count + 1\n",
        "    elif a == 'U':\n",
        "      count = count + 1\n",
        "  return count"
      ],
      "execution_count": null,
      "outputs": []
    },
    {
      "cell_type": "code",
      "metadata": {
        "colab": {
          "base_uri": "https://localhost:8080/"
        },
        "id": "P4WuknOSJay7",
        "outputId": "c063bb5b-6e75-48b6-a446-8be59c87ea56"
      },
      "source": [
        "print(solution('I love you'))"
      ],
      "execution_count": null,
      "outputs": [
        {
          "output_type": "stream",
          "name": "stdout",
          "text": [
            "9\n"
          ]
        }
      ]
    },
    {
      "cell_type": "code",
      "metadata": {
        "id": "yClULP9JJetn"
      },
      "source": [
        ""
      ],
      "execution_count": null,
      "outputs": []
    }
  ]
}